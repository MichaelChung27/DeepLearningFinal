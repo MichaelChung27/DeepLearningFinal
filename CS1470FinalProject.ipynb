{
  "nbformat": 4,
  "nbformat_minor": 0,
  "metadata": {
    "colab": {
      "name": "CS1470FinalProject.ipynb",
      "provenance": [],
      "collapsed_sections": []
    },
    "kernelspec": {
      "name": "python3",
      "display_name": "Python 3"
    },
    "language_info": {
      "name": "python"
    }
  },
  "cells": [
    {
      "cell_type": "markdown",
      "source": [
        "# **Sports Predicting and Betting Model**\n",
        "## Geoff Grossman-McKee, Noah Ehrhardt, and Michael Chung"
      ],
      "metadata": {
        "id": "kLbl9g6TWd57"
      }
    },
    {
      "cell_type": "code",
      "execution_count": null,
      "metadata": {
        "id": "3VS3hMAWZiY6"
      },
      "outputs": [],
      "source": [
        "import tensorflow as tf\n",
        "import numpy as np\n",
        "import pandas as pd\n"
      ]
    },
    {
      "cell_type": "markdown",
      "source": [
        "# Gathering Data and Preprocessing:"
      ],
      "metadata": {
        "id": "KWTh57zXaANH"
      }
    },
    {
      "cell_type": "code",
      "source": [
        "# Data comes from: https://www.sportsbookreviewsonline.com/scoresoddsarchives/nba/nbaoddsarchives.htm\n",
        "# ^ for game results and odds \n",
        "\n",
        "# Need to download data to drive and then mount to that place in the drive\n",
        "from google.colab import drive \n",
        "drive.mount('/content/drive', force_remount=True) \n",
        "drive_path=\"/content/drive/MyDrive/CS1470 Final Project/\""
      ],
      "metadata": {
        "id": "ojz8xQNkgAox",
        "colab": {
          "base_uri": "https://localhost:8080/"
        },
        "outputId": "07b3bc9f-02e7-413f-c9f3-f12b4f2e2109"
      },
      "execution_count": null,
      "outputs": [
        {
          "output_type": "stream",
          "name": "stdout",
          "text": [
            "Mounted at /content/drive\n"
          ]
        }
      ]
    },
    {
      "cell_type": "code",
      "source": [
        "# Game files of form \"nba odds 2010-2011.xlsx\"\n",
        "\n",
        "# Game data from seaason 2008-2009 to 2019-2020\n",
        "game_files = []\n",
        "years = []\n",
        "for i in range(8, 20):\n",
        "  years.append(f\"{i:02}\" + \"-\" + f\"{i + 1:02}\")\n",
        "  game_files.append(drive_path + \"nba odds 20\" + f\"{i:02}\" + \"-\" + f\"{(i + 1):02}\" + \".xlsx\")\n"
      ],
      "metadata": {
        "id": "MkQNmwVoZ_Tm"
      },
      "execution_count": null,
      "outputs": []
    },
    {
      "cell_type": "code",
      "source": [
        "# Read in excel files by year, combine at the end \n",
        "\n",
        "# Creates data \n",
        "game_dfs = []\n",
        "for f in range(len(game_files)):\n",
        "  games_df = pd.read_excel(game_files[f])\n",
        "  games_df['Team'] = games_df['Team'].str.replace(\" \",\"\")\n",
        "  # Lists to generate new columns\n",
        "  opponent = []\n",
        "  opponent_win_loss = []\n",
        "  opponent_odds = []\n",
        "  year = []\n",
        "  win_or_loss = []\n",
        "  opponent_points_for = []\n",
        "  for i in range(len(games_df)):\n",
        "    year.append(years[f])\n",
        "  \n",
        "  for i in range(0, len(games_df), 2):\n",
        "    # Skipping by two \n",
        "    # Example for adding opponent information:\n",
        "    # Opponent for first team in matchup\n",
        "    opponent.append(games_df['Team'].iloc[i + 1])\n",
        "    # Opponent for second team in matchup\n",
        "    opponent.append(games_df['Team'].iloc[i])\n",
        "    opponent_odds.append(games_df['ML'].iloc[i + 1])\n",
        "    opponent_odds.append(games_df['ML'].iloc[i])\n",
        "    opponent_points_for.append(games_df['Final'].iloc[i + 1])\n",
        "    opponent_points_for.append(games_df['Final'].iloc[i])\n",
        "\n",
        "    # Need to determine who won or loss and assign that a value\n",
        "    if games_df['Final'].iloc[i] > games_df['Final'].iloc[i + 1]:\n",
        "      win_or_loss.append('W')\n",
        "      win_or_loss.append('L')\n",
        "    else:\n",
        "      win_or_loss.append('L')\n",
        "      win_or_loss.append('W')\n",
        "  # Adding calculated columns:\n",
        "  games_df['Opponent'] = opponent\n",
        "  games_df['opponent_odds'] = opponent_odds\n",
        "  games_df['Win_or_loss'] = win_or_loss\n",
        "  games_df['Opponent_final'] = opponent_points_for\n",
        "  \n",
        "  \n",
        "  # Need to sum up wins before each game in the season:\n",
        "  teams = games_df['Team'].unique()\n",
        "  total_wins = []\n",
        "  total_losses = []\n",
        "  games_played = []\n",
        "  win_loss_perc = []\n",
        "\n",
        "  # Dictionary of lists of dictionaries of lists \n",
        "  team_dict = dict()\n",
        "  \n",
        "  # Initialize dictionaries\n",
        "  teams = games_df['Team'].unique()\n",
        "  for key in teams:\n",
        "    op_teams = []\n",
        "    for team in teams:\n",
        "      if key != team:\n",
        "        op_teams.append(team)\n",
        "    if key not in team_dict:\n",
        "      team_dict[key] = [[0], [0], [0], [0], [0], [0], [0], \n",
        "                              dict.fromkeys(op_teams, [[0], [0], [0], [0]]), \n",
        "                                                       [0], [0], [0], [0]]\n",
        "\n",
        "  # Lists:\n",
        "  wins = [] #0\n",
        "  losses = [] #1\n",
        "  games_played = [] #2\n",
        "  win_percent = [] #3\n",
        "  points_for = [] #4\n",
        "  points_against = [] #5\n",
        "  point_diff = [] #6\n",
        "  # Lists within dict\n",
        "  head_to_head = [] #7, wins then losses then games played then percent win\n",
        "  op_win_percent = [] #8\n",
        "  op_points_for = [] #9\n",
        "  op_points_against = [] #10\n",
        "  op_point_diff = [] #11\n",
        "  \n",
        "  for i in range(len(games_df)):\n",
        "    # Get current wins, losses, games played, win percent:\n",
        "    key = games_df['Team'].iloc[i]\n",
        "    # Ordering of list = wins, losses, games played, win percent, points for,\n",
        "    # points against, point differential \n",
        "    # head to head win percent vs opponent, opponent win percent, opponent points for,\n",
        "    # opponent points against, opponent point differential\n",
        "    # Initialize op_team_dict with every team but current one:\n",
        "    \n",
        "    op_team = games_df['Opponent'].iloc[i]\n",
        "     \n",
        "    \n",
        "    \n",
        "    wins.append(team_dict[key][0][-1])\n",
        "    losses.append(team_dict[key][1][-1])\n",
        "    games_played.append(team_dict[key][2][-1])\n",
        "    win_percent.append(team_dict[key][3][-1])\n",
        "    if games_df['Win_or_loss'].iloc[i] == 'W':\n",
        "      team_dict[key][0].append(team_dict[key][0][-1] + 1)\n",
        "    else:\n",
        "      team_dict[key][1].append(team_dict[key][1][-1] + 1)\n",
        "    team_dict[key][2].append(team_dict[key][2][-1] + 1)\n",
        "    team_dict[key][3].append(round(team_dict[key][0][-1] / team_dict[key][2][-1], 2))\n",
        "    \n",
        "\n",
        "    # Adds points for, points against, and point differential:\n",
        "    points_for.append(team_dict[key][4][-1])\n",
        "    points_against.append(team_dict[key][5][-1])\n",
        "    point_diff.append(team_dict[key][4][-1] - team_dict[key][5][-1])\n",
        "    team_dict[key][4].append(team_dict[key][4][-1] + games_df['Final'].iloc[i])\n",
        "    team_dict[key][5].append(team_dict[key][5][-1] + games_df['Opponent_final'].iloc[i])\n",
        "    team_dict[key][6].append(team_dict[key][4][-1] - team_dict[key][5][-1])\n",
        "    \n",
        "\n",
        "    # Adds head_to_head \n",
        "    \n",
        "    if i % 2 == 0:\n",
        "      if games_df['Win_or_loss'].iloc[i] == 'W':\n",
        "        team_dict[key][7][op_team][0].append(team_dict[key][7][op_team][0][-1] + 1)\n",
        "      else: \n",
        "        team_dict[key][7][op_team][1].append(team_dict[key][7][op_team][1][-1] + 1)\n",
        "      team_dict[key][7][op_team][2].append(team_dict[key][7][op_team][2][-1] + 1)\n",
        "      team_dict[key][7][op_team][3].append(round(team_dict[key][7][op_team][0][-1] \n",
        "                                                / team_dict[key][7][op_team][2][-1], 2))\n",
        "    else:\n",
        "      if games_df['Win_or_loss'].iloc[i] == 'W':\n",
        "        team_dict[key][7][op_team][0].append(team_dict[key][7][op_team][0][-1] + 1)\n",
        "      else: \n",
        "        team_dict[key][7][op_team][1].append(team_dict[key][7][op_team][1][-1] + 1)\n",
        "      team_dict[key][7][op_team][2].append(team_dict[key][7][op_team][2][-1] + 1)\n",
        "      team_dict[key][7][op_team][3].append(round(team_dict[key][7][op_team][0][-1] \n",
        "                                                / team_dict[key][7][op_team][2][-1], 2))\n",
        "    \n",
        "    head_to_head_current = []\n",
        "    for x in range(4):\n",
        "      head_to_head_current.append(team_dict[key][7][op_team][x][-1])\n",
        "    head_to_head.append(head_to_head_current)\n",
        "      \n",
        "    # Adds points for, points against, and point differential:\n",
        "    if i % 2 == 0: \n",
        "      team_dict[key][9].append(team_dict[op_team][4][-1])\n",
        "      team_dict[key][10].append(team_dict[op_team][5][-1])\n",
        "      team_dict[key][11].append(team_dict[key][9][-1] - team_dict[key][10][-1])\n",
        "    else:\n",
        "      team_dict[key][9].append(team_dict[op_team][4][-2])\n",
        "      team_dict[key][10].append(team_dict[op_team][5][-2])\n",
        "      team_dict[key][11].append(team_dict[key][9][-1] - team_dict[key][10][-1])\n",
        "    \n",
        "    # Adds wins, losses, games_played, win_percent:\n",
        "    op_points_for.append(team_dict[key][9][-1])\n",
        "    op_points_against.append(team_dict[key][10][-1])\n",
        "    op_point_diff.append(team_dict[key][9][-1] - team_dict[key][10][-1])\n",
        "    \n",
        "  # Adding the new columns     \n",
        "  games_df['Year'] = year\n",
        "  games_df['Wins'] = wins\n",
        "  games_df['Losses'] = losses\n",
        "  games_df['Games_played'] = games_played\n",
        "  games_df['Win_percent'] = win_percent\n",
        "\n",
        "  op_games_played = []\n",
        "  for i in range(0, len(games_df), 2):\n",
        "    # Opponent win percent for first team in matchup\n",
        "    op_win_percent.append(games_df['Win_percent'].iloc[i + 1])\n",
        "    op_games_played.append(games_df['Games_played'].iloc[i + 1])\n",
        "    # Opponent win percent for second team in matchup\n",
        "    op_win_percent.append(games_df['Win_percent'].iloc[i])\n",
        "    op_games_played.append(games_df['Games_played'].iloc[i])\n",
        "\n",
        "\n",
        "  \n",
        "  # Adding more columns\n",
        "  games_df['Points_for'] = points_for\n",
        "  games_df['Points_against'] = points_against\n",
        "  games_df['Point_diff'] = point_diff\n",
        "  #games_df['Head_to_head'] = head_to_head\n",
        "  games_df['Op_games_played'] = op_games_played\n",
        "  games_df['Op_win_percent'] = op_win_percent\n",
        "  games_df['Op_points_for'] = op_points_for\n",
        "  games_df['Op_points_against'] = op_points_against\n",
        "  games_df['Op_point_diff'] = op_point_diff\n",
        "\n",
        "  game_dfs.append(games_df)\n",
        "\n",
        "game_dfs = pd.concat(game_dfs)"
      ],
      "metadata": {
        "id": "xq7i2xjzzMFi"
      },
      "execution_count": null,
      "outputs": []
    },
    {
      "cell_type": "code",
      "source": [
        "# Drop irrelevant columns / ones that are in the wrong time frame:\n",
        "game_dfs = game_dfs.drop('Date', 1)\n",
        "game_dfs = game_dfs.drop('Rot', 1)\n",
        "game_dfs = game_dfs.drop('1st', 1)\n",
        "game_dfs = game_dfs.drop('2nd', 1)\n",
        "game_dfs = game_dfs.drop('3rd', 1)\n",
        "game_dfs = game_dfs.drop('4th', 1)\n",
        "game_dfs = game_dfs.drop('Final', 1)\n",
        "game_dfs = game_dfs.drop('Open', 1)\n",
        "game_dfs = game_dfs.drop('Close', 1)\n",
        "game_dfs = game_dfs.drop('2H', 1)\n",
        "game_dfs = game_dfs.drop('Opponent_final', 1)"
      ],
      "metadata": {
        "id": "s9zRtdz4C1NV"
      },
      "execution_count": null,
      "outputs": []
    },
    {
      "cell_type": "code",
      "source": [
        "# Convert American odds to percent odds \n",
        "\n",
        "def convert_to_prob(odds):\n",
        "  prob = 0\n",
        "  if(odds>0):\n",
        "    prob = 100/(100+odds)\n",
        "  elif(odds<0):\n",
        "    prob = (-odds)/(100-odds)\n",
        "\n",
        "  return prob\n",
        "\n",
        "\n",
        "# Drop where games played = 0 (measured by no points) because it is worthless for testing: \n",
        "training_df = game_dfs[(game_dfs['Points_for'] > 0) & (game_dfs['Op_points_for'] > 0)]\n",
        "\n",
        "training_df_2 = training_df.copy(deep=True)\n",
        "\n",
        "# Generate stats for opponents \n",
        "odds = training_df['ML'].map(convert_to_prob)\n",
        "op_odds = training_df['opponent_odds'].map(convert_to_prob)\n",
        "training_df['Odds'] = odds\n",
        "training_df['Op_odds'] = op_odds\n",
        "training_df = training_df.drop('ML', 1)\n",
        "training_df = training_df.drop('opponent_odds', 1)\n",
        "\n",
        "new_points_for = []\n",
        "new_points_against = []\n",
        "new_point_diff = []\n",
        "\n",
        "new_op_points_for = []\n",
        "new_op_points_against = []\n",
        "new_op_point_diff = []\n",
        "\n",
        "for i in range(len(training_df)):\n",
        "  # Standardizing to per game played:\n",
        "  new_points_for.append(training_df['Points_for'].iloc[i] / training_df['Games_played'].iloc[i])\n",
        "  new_points_against.append(training_df['Points_against'].iloc[i] / training_df['Games_played'].iloc[i])\n",
        "  new_point_diff.append(training_df['Point_diff'].iloc[i] / training_df['Games_played'].iloc[i])\n",
        "\n",
        "  # Standardizing to per game played for op information:\n",
        "  new_op_points_for.append(training_df['Op_points_for'].iloc[i] / training_df['Op_games_played'].iloc[i])\n",
        "  new_op_points_against.append(training_df['Op_points_against'].iloc[i] / training_df['Op_games_played'].iloc[i])\n",
        "  new_op_point_diff.append(training_df['Op_point_diff'].iloc[i] / training_df['Op_games_played'].iloc[i])\n",
        "\n",
        "training_df = training_df.drop('Points_for', 1)\n",
        "training_df = training_df.drop('Points_against', 1)\n",
        "training_df = training_df.drop('Point_diff', 1)\n",
        "training_df = training_df.drop('Op_points_for', 1)\n",
        "training_df = training_df.drop('Op_points_against', 1)\n",
        "training_df = training_df.drop('Op_point_diff', 1)\n",
        "\n",
        "training_df['Points_for'] = new_points_for\n",
        "training_df['Points_against'] = new_points_against\n",
        "training_df['Points_diff'] = new_point_diff\n",
        "training_df['Op_points_for'] = new_op_points_for\n",
        "training_df['Op_points_against'] = new_op_points_against\n",
        "training_df['Op_point_diff'] = new_op_point_diff"
      ],
      "metadata": {
        "id": "Rs1LTqDXknil"
      },
      "execution_count": null,
      "outputs": []
    },
    {
      "cell_type": "code",
      "source": [
        "# One hot encode every categorical column:\n",
        "training_df = pd.get_dummies(training_df, columns = ['Team'], prefix='Team')\n",
        "training_df = pd.get_dummies(training_df, columns = ['Opponent'], prefix='Opponent')\n",
        "training_df = pd.get_dummies(training_df, columns = ['VH'], prefix='VH')\n",
        "training_df = pd.get_dummies(training_df, columns = ['Year'], prefix='Year')\n",
        "\n",
        "win_loss_map = {'W': 1, 'L': 0}\n",
        "training_df['Win_or_loss'] = training_df['Win_or_loss'].map(win_loss_map)\n",
        "\n",
        "odds_df = training_df.copy(deep=True)\n",
        "\n",
        "#training_df = training_df.drop('Odds', 1)\n",
        "#training_df = training_df.drop('Op_odds', 1)\n"
      ],
      "metadata": {
        "id": "zDlJhFJ7UZJ0"
      },
      "execution_count": null,
      "outputs": []
    },
    {
      "cell_type": "markdown",
      "source": [
        "Here we split data into training and testing for the predictive model and the betting model:"
      ],
      "metadata": {
        "id": "G2iIvC9cXeiC"
      }
    },
    {
      "cell_type": "code",
      "source": [
        "from sklearn.model_selection import train_test_split\n",
        "\n",
        "# Split into inputs and labels:\n",
        "columns = list(training_df.columns)\n",
        "input_cols = []\n",
        "\n",
        "for col in columns:\n",
        "  if col != 'Win_or_loss':\n",
        "    input_cols.append(col)\n",
        "\n",
        "inputs = (training_df[input_cols])\n",
        "labels = training_df[['Win_or_loss']]\n",
        "\n",
        "# Train / test split \n",
        "x_train, x_test, y_train, y_test = train_test_split(inputs, labels, test_size=0.2, random_state=30)\n",
        "\n",
        "\n",
        "\n",
        "x_train = np.asarray(x_train).astype(np.float32)\n",
        "x_test = np.asarray(x_test).astype(np.float32)\n",
        "y_train = np.asarray(y_train).astype(np.float32)\n",
        "y_test = np.asarray(y_test).astype(np.float32)\n",
        "\n",
        "\n",
        "# Split into inputs and labels:\n",
        "columns = list(odds_df.columns)\n",
        "input_cols = []\n",
        "\n",
        "for col in columns:\n",
        "  if col != 'Win_or_loss':\n",
        "    input_cols.append(col)\n",
        "\n"
      ],
      "metadata": {
        "id": "71pVdwn6P3at"
      },
      "execution_count": null,
      "outputs": []
    },
    {
      "cell_type": "markdown",
      "source": [
        "This block makes a copy of the data for the betting model. We do not know why, but it must be run after the prediciton model is trained or else it makes it worse."
      ],
      "metadata": {
        "id": "WqrhWSSUwdKO"
      }
    },
    {
      "cell_type": "code",
      "source": [
        "inputs2 = (odds_df[input_cols])\n",
        "labels = odds_df[['Win_or_loss']]\n",
        "\n",
        "# Train / test split \n",
        "x_train2, x_test2, y_train2, y_test2 = train_test_split(inputs2, labels, test_size=0.2, random_state=30)\n",
        "\n",
        "\n",
        "train_odds = tf.concat([x_train2[['Odds']], x_train2[['Op_odds']]], axis=1)\n",
        "test_odds = tf.concat([x_test2[['Odds']], x_test2[['Op_odds']]], axis=1)\\\n",
        "\n",
        "x_train2 = np.asarray(x_train2).astype(np.float32)\n",
        "x_test2 = np.asarray(x_test2).astype(np.float32)\n",
        "y_train2 = np.asarray(y_train2).astype(np.float32)\n",
        "y_test = np.asarray(y_test2).astype(np.float32)\n",
        "\n",
        "\n",
        "\n",
        "train_odds = np.asarray(train_odds).astype(np.float32)\n",
        "test_odds = np.asarray(test_odds).astype(np.float32)"
      ],
      "metadata": {
        "id": "buh7IxItv-G8"
      },
      "execution_count": null,
      "outputs": []
    },
    {
      "cell_type": "markdown",
      "source": [
        "# Game Win or Loss Model:\n",
        "\n",
        "We utilize a simple feed-forward neural network with dense and dropout layers. It consistently converges to 67% accuracy which coinicides with the upper limits of the papers we read."
      ],
      "metadata": {
        "id": "PAAu6gOzyVhJ"
      }
    },
    {
      "cell_type": "code",
      "source": [
        "import tensorflow as tf\n",
        "from keras.layers import Dense, Dropout, Activation, Flatten\n",
        "\n",
        "game_model = tf.keras.Sequential()\n",
        "game_model.add(Flatten())\n",
        "game_model.add(Dense(64, activation='relu'))\n",
        "game_model.add(Dropout(0.4))\n",
        "game_model.add(Dense(32, activation='relu'))\n",
        "game_model.add(Dropout(0.4))\n",
        "game_model.add(Dense(16, activation='relu'))\n",
        "game_model.add(Dropout(0.4))\n",
        "game_model.add(Dense(1, activation='sigmoid'))\n",
        "\n",
        "game_model.compile(loss=\"binary_crossentropy\", optimizer=tf.keras.optimizers.Adam(0.0005), metrics=[\"accuracy\"])\n",
        "game_model.fit(x_train, y_train, batch_size=16, validation_data=(x_test, y_test), verbose=1,epochs=15)"
      ],
      "metadata": {
        "id": "waEbA9K-NPUy"
      },
      "execution_count": null,
      "outputs": []
    },
    {
      "cell_type": "markdown",
      "source": [
        "## Betting Simulation Test Run:"
      ],
      "metadata": {
        "id": "vkjAcBCOaQUc"
      }
    },
    {
      "cell_type": "code",
      "source": [
        "# Betting strategy:\n",
        "\n",
        "# If our confidence is high and greater than the vegas odds, we bet.\n",
        "\n",
        "# Split into inputs, odds, and win or loss:\n",
        "columns = list(odds_df.columns)\n",
        "input_cols_odds = []\n",
        "\n",
        "for col in columns:\n",
        "  if col != 'Win_or_loss':\n",
        "    input_cols_odds.append(col)\n",
        "\n",
        "\n",
        "inputs = (odds_df[input_cols_odds])\n",
        "\n",
        "odds = odds_df[['Odds']]\n",
        "labels = odds_df[['Win_or_loss']]\n",
        "\n",
        "outputs = list(game_model(np.asarray(inputs).astype(np.float32)))\n"
      ],
      "metadata": {
        "id": "M8Zw8tgSnU01"
      },
      "execution_count": null,
      "outputs": []
    },
    {
      "cell_type": "code",
      "source": [
        "bank_roll = 100\n",
        "graph_bank = []\n",
        "x_ticks = []\n",
        "\n",
        "our_accuracy = []\n",
        "there_accuracy = []\n",
        "\n",
        "for i in range(len(odds_df)):\n",
        "  payout = 0\n",
        "  our_output = outputs[i].numpy()[0]\n",
        "  there_output = odds_df[\"Odds\"].iloc[i]\n",
        "  \n",
        "  if our_output > .65 and there_output < our_output:\n",
        "    bet = .05 * bank_roll\n",
        "    bank_roll = bank_roll - bet\n",
        "    if labels['Win_or_loss'].iloc[i] == 1:\n",
        "      payout = bet * (1 / there_output)\n",
        "  if inputs['Year_14-15'].iloc[i] == 1:\n",
        "    break\n",
        "  bank_roll += payout\n",
        "  graph_bank.append(bank_roll)\n",
        "  x_ticks.append(i)\n",
        "\n",
        "\n",
        "import matplotlib.pyplot as plt\n",
        "\n",
        "plt.plot(x_ticks , graph_bank)\n",
        "plt.title('Bet Success Years 2008-2014')\n",
        "plt.xlabel('Number of games')\n",
        "plt.ylabel('Bankroll')\n",
        "plt.show()\n",
        "\n",
        "print(\"Starting bankroll = \" + str(graph_bank[0]) + \", ending bankroll = \" + \"{:.2f}\".format(graph_bank[-1]) + \", for profit of \" + \"{:.2%}\".format(((graph_bank[-1] - graph_bank[0]) / graph_bank[0])))"
      ],
      "metadata": {
        "id": "T1aTy54cYqLM"
      },
      "execution_count": null,
      "outputs": []
    },
    {
      "cell_type": "code",
      "source": [
        "bank_roll = 100\n",
        "graph_bank = []\n",
        "x_ticks = []\n",
        "\n",
        "our_accuracy = []\n",
        "there_accuracy = []\n",
        "\n",
        "x = 0\n",
        "for i in range(len(odds_df)):\n",
        "  if inputs['Year_14-15'].iloc[i] == 1:\n",
        "    x = i\n",
        "    break\n",
        "for i in range(x, len(odds_df)):\n",
        "  payout = 0\n",
        "  our_output = outputs[i].numpy()[0]\n",
        "  there_output = odds[\"Odds\"].iloc[i]\n",
        "  \n",
        "  if our_output > .65 and there_output < our_output:\n",
        "    bet = .05 * bank_roll\n",
        "    bank_roll = bank_roll - bet\n",
        "    if labels['Win_or_loss'].iloc[i] == 1:\n",
        "      payout = bet * (1 / there_output)\n",
        "  \n",
        "  bank_roll += payout\n",
        "  graph_bank.append(bank_roll)\n",
        "  x_ticks.append(i - x)\n",
        "\n",
        "\n",
        "import matplotlib.pyplot as plt\n",
        "\n",
        "plt.plot(x_ticks , graph_bank)\n",
        "plt.title('Bet Success Years 2014-2020')\n",
        "plt.xlabel('Number of games')\n",
        "plt.ylabel('Bankroll')\n",
        "plt.show()\n",
        "print(\"Starting bankroll = \" + str(graph_bank[0]) + \", ending bankroll = \" + \"{:.2f}\".format(graph_bank[-1]) + \", for profit of \" + \"{:.2%}\".format(((graph_bank[-1] - graph_bank[0]) / graph_bank[0])))"
      ],
      "metadata": {
        "id": "0zxX2NmHt_zo"
      },
      "execution_count": null,
      "outputs": []
    },
    {
      "cell_type": "markdown",
      "source": [
        "# Betting Model:"
      ],
      "metadata": {
        "id": "gYw_nhzYydOC"
      }
    },
    {
      "cell_type": "code",
      "source": [
        "class Betting_Model(tf.keras.Model):\n",
        "  def __init__(self):\n",
        "    super(Betting_Model, self).__init__()\n",
        "\n",
        "    self.batch_size = 32\n",
        "    self.dropout_rate = 0.3\n",
        "\n",
        "    self.l1 = tf.keras.layers.Dense(64, activation='relu')\n",
        "    self.l2 = tf.keras.layers.Dense(32, activation='relu')\n",
        "    self.l3 = tf.keras.layers.Dense(16, activation='relu')\n",
        "    self.l4 = tf.keras.layers.Dense(3, activation='softmax')\n",
        "\n",
        "    self.optimizer = tf.keras.optimizers.Adam(learning_rate=0.005)\n",
        "\n",
        "  \n",
        "  def call(self, inputs):\n",
        "    '''\n",
        "    The forward pass consists of simple linear layers with\n",
        "    dropout. \n",
        "    \n",
        "    inputs: tensor of shape (batch size x number of statistsics)\n",
        "    output: tensor of shape (3,) indicating the models confidence in the \n",
        "      options to bet on team A, bet on team B, or not bet.\n",
        "    '''\n",
        "    out1 = tf.nn.dropout(self.l1(inputs), self.dropout_rate)\n",
        "    out2 = tf.nn.dropout(self.l2(out1), self.dropout_rate)\n",
        "    out3 = tf.nn.dropout(self.l3(out2), self.dropout_rate)\n",
        "    return tf.nn.dropout(self.l4(out3), self.dropout_rate)\n",
        "\n",
        "\n",
        "  def loss(self, probs, labels, odds):\n",
        "    '''\n",
        "    Calculates the loss given model outputs, labels, and odds\n",
        "\n",
        "    probs: tensor of shape (batch_size, 3)\n",
        "    labels: tensor of shape (batch_size,) (binary)\n",
        "    odds: tensor of shape (batch_size, 2)\n",
        "\n",
        "    ouput: mean squared error of the model's profit and the maximum possible profit\n",
        "    '''\n",
        "    no_bet = probs[:, 2:3]\n",
        "\n",
        "    home_odds = odds[:, 0:1]\n",
        "    away_odds = odds[:, 1:2]\n",
        "\n",
        "    home_result = probs[:, 0:1] * labels # result of bet on home team\n",
        "    away_result = probs[:, 1:2] * (1 - labels) # result of bet on away team\n",
        "\n",
        "    profit = (home_result * (1/home_odds)) + (away_result * (1/away_odds)) + no_bet - 1\n",
        "\n",
        "    max_profit = labels * (1/home_odds) + (1-labels) * (1/away_odds) - 1\n",
        "\n",
        "    return tf.reduce_mean(tf.math.square(max_profit - profit))\n"
      ],
      "metadata": {
        "id": "-sMYHLGEQtHy"
      },
      "execution_count": null,
      "outputs": []
    },
    {
      "cell_type": "markdown",
      "source": [
        "Unfortunately, we were not able to make the model learn properly. The loss does not decrease. If we had more time, we would have tried to develop this model better."
      ],
      "metadata": {
        "id": "4_Nu2DcneuCs"
      }
    },
    {
      "cell_type": "code",
      "source": [
        "def train(model, train_inputs, train_labels, train_odds):\n",
        "\n",
        "  # random shuffle\n",
        "  indices = tf.random.shuffle(np.arange(0, len(train_labels)))\n",
        "\n",
        "  train_inputs = tf.gather(train_inputs, indices)\n",
        "  train_labels = tf.gather(train_labels, indices)\n",
        "  train_odds = tf.gather(train_odds, indices)\n",
        "\n",
        "  loss_list = []\n",
        "  for i in range(0, len(train_inputs), model.batch_size):\n",
        "    # get batch inputs and labels:\n",
        "    batch_inputs = train_inputs[i : i + model.batch_size]\n",
        "    batch_labels = train_labels[i : i + model.batch_size]\n",
        "    batch_odds = train_odds[i : i + model.batch_size]\n",
        "\n",
        "    # forward pass:\n",
        "    with tf.GradientTape() as tape:\n",
        "      logits = model.call(batch_inputs)\n",
        "      loss = model.loss(logits, batch_labels, batch_odds)\n",
        "\n",
        "    loss_list.append(loss)\n",
        "    # gradient descent:\n",
        "    gradients = tape.gradient(loss, model.trainable_variables)\n",
        "\n",
        "    model.optimizer.apply_gradients(zip(gradients, model.trainable_variables))\n",
        "  \n",
        "  return tf.reduce_mean(loss_list)\n",
        "\n",
        "\n",
        "\n",
        "model = Betting_Model()\n",
        "\n",
        "for i in range(10):\n",
        "  loss = train(model, x_train, y_train, train_odds)\n",
        "  print(f'Epoch {i+1}: loss = {loss}')\n"
      ],
      "metadata": {
        "id": "GZuOa_f9IEi7"
      },
      "execution_count": null,
      "outputs": []
    },
    {
      "cell_type": "markdown",
      "source": [
        "This is our version of a testing run. It runs through a betting simulation. We were not able to get it to positive returns."
      ],
      "metadata": {
        "id": "c09cvQAwfDyD"
      }
    },
    {
      "cell_type": "code",
      "source": [
        "import matplotlib.pyplot as plt\n",
        "\n",
        "def test(model, test_inputs, test_labels, test_odds, bankroll, bet_size):\n",
        "  probs = model.call(test_inputs)\n",
        "  testing_loss = model.loss(probs, test_labels, test_odds)\n",
        "\n",
        "  decisions = tf.argmax(probs, 1)\n",
        "  \n",
        "  graph_bank = []\n",
        "  x_ticks = []\n",
        "  a_bet = 0\n",
        "  b_bet = 0\n",
        "  for i in range(len(test_inputs)):\n",
        "    graph_bank.append(bankroll)\n",
        "    x_ticks.append(i)\n",
        "    pre = bankroll\n",
        "    bet = bankroll * bet_size\n",
        "    bankroll -= bet\n",
        "    \n",
        "    ret = bet\n",
        "    if(decisions[i] == 0):\n",
        "      ret = test_labels[i][0] * (1/test_odds[i, 0]) * bet\n",
        "      a_bet += 1\n",
        "    elif(decisions[i] == 1):\n",
        "      ret = (1 - test_labels[i][0]) * (1/test_odds[i, 1]) * bet\n",
        "      b_bet += 1\n",
        "    \n",
        "    bankroll += ret\n",
        "\n",
        "    if bankroll < 1:\n",
        "      break\n",
        "    \n",
        "  plt.plot(x_ticks , graph_bank)\n",
        "  plt.title('Bet Success')\n",
        "  plt.xlabel('Num of bets')\n",
        "  plt.ylabel('Bankroll')\n",
        "  plt.show()\n",
        "\n",
        "  return bankroll, testing_loss\n",
        "\n",
        "bankroll = 100\n",
        "bet_size = 0.1\n",
        "final, tl = test(model, x_test, y_test, test_odds, bankroll, bet_size)\n",
        "\n",
        "print(f'With ${bankroll} ended with ${final} for profit of {final-bankroll} or {100*(final-bankroll)/bankroll}% returns. \\n Testing loss = {tl}')"
      ],
      "metadata": {
        "id": "GiLwERgPnf1U"
      },
      "execution_count": null,
      "outputs": []
    }
  ]
}